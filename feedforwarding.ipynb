{
  "nbformat": 4,
  "nbformat_minor": 0,
  "metadata": {
    "colab": {
      "provenance": [],
      "include_colab_link": true
    },
    "kernelspec": {
      "name": "python3",
      "display_name": "Python 3"
    },
    "language_info": {
      "name": "python"
    }
  },
  "cells": [
    {
      "cell_type": "markdown",
      "metadata": {
        "id": "view-in-github",
        "colab_type": "text"
      },
      "source": [
        "<a href=\"https://colab.research.google.com/github/SyedMisbahGit/FirstGitHubRepo/blob/main/feedforwarding.ipynb\" target=\"_parent\"><img src=\"https://colab.research.google.com/assets/colab-badge.svg\" alt=\"Open In Colab\"/></a>"
      ]
    },
    {
      "cell_type": "code",
      "execution_count": 1,
      "metadata": {
        "id": "rA4tlTOIXmrZ"
      },
      "outputs": [],
      "source": [
        "import numpy as np\n",
        "import random"
      ]
    },
    {
      "cell_type": "code",
      "source": [
        "np.random.seed(42)\n",
        "\n",
        "def sigmoid(x):\n",
        "    return 1 / (1 + np.exp(-x))\n",
        "\n",
        "X = np.random.randint(1, 5, (2, 2))\n",
        "\n",
        "W1 = np.random.randint(1, 5, (2, 2))\n",
        "b1 = np.random.randint(1, 5, (1, 2))\n",
        "\n",
        "W2 = np.random.randint(1, 5, (2, 2))\n",
        "b2 = np.random.randint(1, 5, (1, 2))\n",
        "\n",
        "W3 = np.random.randint(1, 5, (2, 1))\n",
        "b3 = np.random.randint(1, 5, (1, 1))\n",
        "\n",
        "H1 = sigmoid(np.dot(X, W1) + b1)\n",
        "H2 = sigmoid(np.dot(H1, W2) + b2)\n",
        "Y = sigmoid(np.dot(H2, W3) + b3)\n",
        "\n",
        "print(\"X:\\n\", X)\n",
        "print(\"\\nH1:\\n\", H1)\n",
        "print(\"\\nH2:\\n\", H2)\n",
        "print(\"\\nY:\\n\", Y)"
      ],
      "metadata": {
        "colab": {
          "base_uri": "https://localhost:8080/"
        },
        "id": "GOWh9g5jbqXM",
        "outputId": "36827461-f1fd-414b-c3c9-129b999e744b"
      },
      "execution_count": 2,
      "outputs": [
        {
          "output_type": "stream",
          "name": "stdout",
          "text": [
            "X:\n",
            " [[3 4]\n",
            " [1 3]]\n",
            "\n",
            "H1:\n",
            " [[0.99999989 0.99999998]\n",
            " [0.99987661 0.99987661]]\n",
            "\n",
            "H2:\n",
            " [[0.9999546  0.99908895]\n",
            " [0.99995457 0.99908827]]\n",
            "\n",
            "Y:\n",
            " [[0.99999383]\n",
            " [0.99999383]]\n"
          ]
        }
      ]
    },
    {
      "cell_type": "code",
      "source": [
        "import tensorflow as tf\n",
        "from tensorflow.keras.models import Sequential\n",
        "from tensorflow.keras.layers import Dense\n",
        "\n",
        "tf.random.set_seed(42)\n",
        "model = Sequential([\n",
        "    Dense(2, activation='relu', input_shape=(2,)),\n",
        "    Dense(2, activation='sigmoid'),\n",
        "    Dense(1, activation='sigmoid')\n",
        "])\n",
        "\n",
        "output = model.predict(X)\n",
        "\n",
        "print(\"X:\\n\", X)\n",
        "print(\"\\nY:\\n\", output)\n"
      ],
      "metadata": {
        "colab": {
          "base_uri": "https://localhost:8080/"
        },
        "id": "Jn8PKZdvdglP",
        "outputId": "8c4e7356-6af2-405f-c25d-a02e7f81994f"
      },
      "execution_count": 3,
      "outputs": [
        {
          "output_type": "stream",
          "name": "stderr",
          "text": [
            "/usr/local/lib/python3.11/dist-packages/keras/src/layers/core/dense.py:87: UserWarning: Do not pass an `input_shape`/`input_dim` argument to a layer. When using Sequential models, prefer using an `Input(shape)` object as the first layer in the model instead.\n",
            "  super().__init__(activity_regularizer=activity_regularizer, **kwargs)\n"
          ]
        },
        {
          "output_type": "stream",
          "name": "stdout",
          "text": [
            "\u001b[1m1/1\u001b[0m \u001b[32m━━━━━━━━━━━━━━━━━━━━\u001b[0m\u001b[37m\u001b[0m \u001b[1m0s\u001b[0m 197ms/step\n",
            "X:\n",
            " [[3 4]\n",
            " [1 3]]\n",
            "\n",
            "Y:\n",
            " [[0.6485976 ]\n",
            " [0.64543074]]\n"
          ]
        }
      ]
    },
    {
      "cell_type": "code",
      "source": [],
      "metadata": {
        "id": "pjWvdt75psb_"
      },
      "execution_count": null,
      "outputs": []
    }
  ]
}