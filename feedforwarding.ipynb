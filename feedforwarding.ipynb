{
  "nbformat": 4,
  "nbformat_minor": 0,
  "metadata": {
    "colab": {
      "provenance": [],
      "authorship_tag": "ABX9TyMNSI9ZzS0ZVRDc6dI+Jq9F",
      "include_colab_link": true
    },
    "kernelspec": {
      "name": "python3",
      "display_name": "Python 3"
    },
    "language_info": {
      "name": "python"
    }
  },
  "cells": [
    {
      "cell_type": "markdown",
      "metadata": {
        "id": "view-in-github",
        "colab_type": "text"
      },
      "source": [
        "<a href=\"https://colab.research.google.com/github/SyedMisbahGit/FirstGitHubRepo/blob/main/feedforwarding.ipynb\" target=\"_parent\"><img src=\"https://colab.research.google.com/assets/colab-badge.svg\" alt=\"Open In Colab\"/></a>"
      ]
    },
    {
      "cell_type": "code",
      "execution_count": 1,
      "metadata": {
        "id": "rA4tlTOIXmrZ"
      },
      "outputs": [],
      "source": [
        "import numpy as np\n",
        "import random"
      ]
    },
    {
      "cell_type": "code",
      "source": [
        "np.random.seed(42)\n",
        "\n",
        "def sigmoid(x):\n",
        "    return 1 / (1 + np.exp(-x))\n",
        "\n",
        "X = np.random.randint(1, 5, (2, 2))\n",
        "\n",
        "W1 = np.random.randint(1, 5, (2, 2))\n",
        "b1 = np.random.randint(1, 5, (1, 2))\n",
        "\n",
        "W2 = np.random.randint(1, 5, (2, 2))\n",
        "b2 = np.random.randint(1, 5, (1, 2))\n",
        "\n",
        "W3 = np.random.randint(1, 5, (2, 1))\n",
        "b3 = np.random.randint(1, 5, (1, 1))\n",
        "\n",
        "H1 = sigmoid(np.dot(X, W1) + b1)\n",
        "H2 = sigmoid(np.dot(H1, W2) + b2)\n",
        "Y = sigmoid(np.dot(H2, W3) + b3)\n",
        "\n",
        "print(\"X:\\n\", X)\n",
        "print(\"\\nH1:\\n\", H1)\n",
        "print(\"\\nH2:\\n\", H2)\n",
        "print(\"\\nY:\\n\", Y)"
      ],
      "metadata": {
        "colab": {
          "base_uri": "https://localhost:8080/"
        },
        "id": "GOWh9g5jbqXM",
        "outputId": "77821e65-3345-4a54-c6a0-cd79314d8d4f"
      },
      "execution_count": 28,
      "outputs": [
        {
          "output_type": "stream",
          "name": "stdout",
          "text": [
            "X:\n",
            " [[3 4]\n",
            " [1 3]]\n",
            "\n",
            "H1:\n",
            " [[0.99999989 0.99999998]\n",
            " [0.99987661 0.99987661]]\n",
            "\n",
            "H2:\n",
            " [[0.9999546  0.99908895]\n",
            " [0.99995457 0.99908827]]\n",
            "\n",
            "Y:\n",
            " [[0.99999383]\n",
            " [0.99999383]]\n"
          ]
        }
      ]
    },
    {
      "cell_type": "code",
      "source": [
        "import tensorflow as tf\n",
        "from tensorflow.keras.models import Sequential\n",
        "from tensorflow.keras.layers import Dense\n",
        "\n",
        "tf.random.set_seed(42)\n",
        "model = Sequential([\n",
        "    Dense(2, activation='relu', input_shape=(2,)),\n",
        "    Dense(2, activation='sigmoid'),\n",
        "    Dense(1, activation='sigmoid')\n",
        "])\n",
        "\n",
        "output = model.predict(X)\n",
        "\n",
        "print(\"X:\\n\", X)\n",
        "print(\"\\nY:\\n\", output)\n"
      ],
      "metadata": {
        "colab": {
          "base_uri": "https://localhost:8080/"
        },
        "id": "Jn8PKZdvdglP",
        "outputId": "58d76418-6479-4ef2-f6b7-368a171dd138"
      },
      "execution_count": 27,
      "outputs": [
        {
          "output_type": "stream",
          "name": "stdout",
          "text": [
            "\u001b[1m1/1\u001b[0m \u001b[32m━━━━━━━━━━━━━━━━━━━━\u001b[0m\u001b[37m\u001b[0m \u001b[1m0s\u001b[0m 75ms/step\n",
            "X:\n",
            " [[3 4]\n",
            " [1 3]]\n",
            "\n",
            "Y:\n",
            " [[0.32640648]\n",
            " [0.33334258]]\n"
          ]
        }
      ]
    },
    {
      "cell_type": "code",
      "source": [],
      "metadata": {
        "id": "pjWvdt75psb_"
      },
      "execution_count": null,
      "outputs": []
    }
  ]
}